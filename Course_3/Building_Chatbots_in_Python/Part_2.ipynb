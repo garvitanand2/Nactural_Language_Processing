{
 "cells": [
  {
   "cell_type": "markdown",
   "metadata": {},
   "source": [
    "## Understanding intents and entities"
   ]
  },
  {
   "cell_type": "markdown",
   "metadata": {},
   "source": [
    "## 1. Understanding intents and entities\n",
    "\n",
    "This chapter is all about the topic of NLU, or natural language understanding. NLU is a subfield of natural language processing, NLP, and is usually concerned with converting freeform text into structured data within a particular domain.\n",
    "\n",
    "## 2. An example\n",
    "\n",
    "For example, a restaurant booking bot should be able to understand a sentence like \"I'm looking for a Mexican restaurant in the centre of town\" and query a database or an API to find matching results. To do this, we need to identify the intent of the message, and extract a set of relevant entities.\n",
    "\n",
    "## 3. Intents\n",
    "\n",
    "An intent is a broad description of what a person is trying to say. For example, \"hello\", \"hi\", and \"yoyoyo\" are all ways that people might `greet` your bot. The example sentence I just mentioned could sensibly be described with the intent `restaurant_search`. There are many different ways someone might express this intent, for example: - I'm hungry - Show me good pizza spots - I want to take my boyfriend out for sushi Now, there is no universally correct way to assign intents to sentences . The 'correct' answer depends on your application. For example, if you expand your bot's capabilities so that it can actually book a table for you, the final sentence \"I want to take my boyfriend out for sushi\" might better be described as a `request_booking` intent than as a restaurant search.\n",
    "\n",
    "## 4. Entities\n",
    "\n",
    "The second part of the NLU problem is to extract `entities` from the text. In the restaurant search example, this means correctly identifying june tenth as a date, `sushi` as a cuisine type and `new york city` as a location. A well-studied problem in NLP is \"Named Entity Recognition\". This is almost exactly the same problem we are describing here, with the difference that NER usually aims to find 'universal' entities like the names of people, organizations, dates, etc. In the case of bots, you often want a narrower definition of your entities that are specific to your domain.\n",
    "\n",
    "## 5. Regular expressions to recognize intents\n",
    "\n",
    "In the next couple of exercises, you will build regular expressions for recognizing intents and entities. This is much simpler than the machine learning approaches we'll use in later parts of the chapter, and is highly computationally efficient. The main drawback is that writing and debugging regular expressions becomes really hard as your chatbot becomes more sophisticated.\n",
    "\n",
    "## 6. Using regular expressions\n",
    "\n",
    "We will use regex to look for keywords in text. We can build expressions which match any one of a set of keywords by using the pipe '|' operator. This corresponds to the logical operation OR. Remember that we can check if a string matched a pattern by checking if the returned match object is None. For example, to look for the keywords \"hello\", \"hey\", or \"hi\" we can write \"hello|hey|hi\". Notice, however, that this is just a string of characters, so \"hi\" will also match the words \"which\", \"this\", etc.\n",
    "\n",
    "## 7. Using regular expressions\n",
    "\n",
    "We can add the word boundary expression \"\\b\" at the start and end to indicate that there \n",
    "shouldn't be any alphanumeric characters on either side of our keyword. Notice that we've put an 'r' before the start of the string. This creates a so-called raw string, which means that we can include special characters like the backslash without clashing with default python string behavior.\n",
    "\n",
    "## 8. Using regex for entity recognition\n",
    "\n",
    "If we're going to use a pattern multiple times, we can create a pattern object using the `re.compile` method. The pattern we've defined here uses some new syntax. Square brackets indicate a range of characters. As before, the asterisk means \"0 or more of occurrences of this pattern\", so the final part of the expression means \"0 or more lower case letters\". The first part of the pattern matches exactly one upper case letter. So this pattern will match any capitalized word. The findall method of the pattern object conveniently extracts all the matching substrings, so to find all the capitalized words in a sentence, we can run pattern.findall, passing the sentence as an argument.\n",
    "\n",
    "## 9. Let's practice!\n",
    "\n",
    "Now it's your turn to write some regular expressions, and use them to get intents and entities from the messages your bot receives.\n"
   ]
  },
  {
   "cell_type": "code",
   "execution_count": 3,
   "metadata": {},
   "outputs": [
    {
     "name": "stdout",
     "output_type": "stream",
     "text": [
      "True\n",
      "<re.Match object; span=(0, 3), match='hey'>\n"
     ]
    }
   ],
   "source": [
    "import re \n",
    "op_1 =  re.search(r\"(hello|hi|hey)\", \"hey there!\") is not None\n",
    "op_2 =  re.search(r\"(hello|hi|hey)\", \"hey there!\")\n",
    "print(op_1)\n",
    "print(op_2)"
   ]
  },
  {
   "cell_type": "markdown",
   "metadata": {},
   "source": [
    "### Intent classification with regex I\n",
    "\n",
    "You'll begin by implementing a very simple technique to recognize intents - looking for the presence of keywords.\n",
    "\n",
    "A dictionary, keywords, has already been defined. It has the intents \"greet\", \"goodbye\", and \"thankyou\" as keys, and lists of keywords as the corresponding values. For example, keywords[\"greet\"] is set to \"[\"hello\",\"hi\",\"hey\"].\n",
    "\n",
    "Also defined is a second dictionary, responses, indicating how the bot should respond to each of these intents. It also has a default response with the key \"default\".\n",
    "\n",
    "The function send_message(), along with the bot and user templates, have also already been defined. Your job in this exercise is to create a dictionary with the intents as keys and regex objects as values.\n",
    "\n",
    "### Instructions\n",
    "\n",
    "Iterate over the keywords dictionary, using intent and keys as your iterator variables.\n",
    "\n",
    "Use '|'.join(keys) to create regular expressions to match at least one of the keywords and pass it to re.compile() to compile the regular expressions into pattern objects. Store the result as the value of the patterns dictionary."
   ]
  },
  {
   "cell_type": "code",
   "execution_count": 4,
   "metadata": {},
   "outputs": [
    {
     "name": "stdout",
     "output_type": "stream",
     "text": [
      "{'greet': re.compile('hello|hi|hey'), 'goodbye': re.compile('bye|farewell'), 'thankyou': re.compile('thank|thx')}\n"
     ]
    }
   ],
   "source": [
    "# Define a dictionary of patterns\n",
    "patterns = {}\n",
    "keywords =  {'greet': ['hello', 'hi', 'hey'], 'goodbye': ['bye', 'farewell'], 'thankyou': ['thank', 'thx']}\n",
    "# Iterate over the keywords dictionary\n",
    "for intent, keys in keywords.items():\n",
    "    # Create regular expressions and compile them into pattern objects\n",
    "    patterns[intent] = re.compile('|'.join(keys))\n",
    "\n",
    "# Print the patterns\n",
    "print(patterns)"
   ]
  },
  {
   "cell_type": "markdown",
   "metadata": {},
   "source": [
    "### Intent classification with regex II\n",
    "\n",
    "With your patterns dictionary created, it's now time to define a function to find the intent of a message.\n",
    "\n",
    "### Instructions\n",
    "\n",
    "Iterate over the intents and patterns in the patterns dictionary using its .items() method.\n",
    "\n",
    "Use the .search() method of pattern to look for keywords in the message.\n",
    "\n",
    "If there is a match, return the corresponding intent.\n",
    "\n",
    "Call your match_intent() function inside respond() with message as the argument and then hit 'Submit Answer' to see how the bot responds to the provided messages."
   ]
  },
  {
   "cell_type": "code",
   "execution_count": null,
   "metadata": {},
   "outputs": [],
   "source": [
    "# Define a function to find the intent of a message\n",
    "def match_intent(message):\n",
    "    matched_intent = None\n",
    "    for intent, pattern in patterns.items():\n",
    "        # Check if the pattern occurs in the message \n",
    "        if pattern.search(message):\n",
    "            matched_intent = intent\n",
    "    return matched_intent\n",
    "\n",
    "# Define a respond function\n",
    "def respond(message):\n",
    "    # Call the match_intent function\n",
    "    intent = match_intent(message)\n",
    "    # Fall back to the default response\n",
    "    key = \"default\"\n",
    "    if intent in responses:\n",
    "        key = intent\n",
    "    return responses[key]\n",
    "\n",
    "# Send messages\n",
    "send_message(\"hello!\")\n",
    "send_message(\"bye byeee\")\n",
    "send_message(\"thanks very much!\")"
   ]
  },
  {
   "cell_type": "markdown",
   "metadata": {},
   "source": [
    "### Entity extraction with regex\n",
    "Now you'll use another simple method, this time for finding a person's name in a sentence, such as \"hello, my name is David Copperfield\".\n",
    "\n",
    "You'll look for the keywords \"name\" or \"call(ed)\", and find capitalized words using regex and assume those are names. Your job in this exercise is to define a find_name() function to do this.\n",
    "\n",
    "### Instructions\n",
    "\n",
    "Use re.compile() to create a pattern for checking if \"name\" or \"call\" keywords occur.\n",
    "\n",
    "Create a pattern for finding capitalized words.\n",
    "\n",
    "Use the .findall() method on name_pattern to retrieve all matching words in message.\n",
    "\n",
    "Call your find_name() function inside respond() and then hit 'Submit Answer' to see how the bot responds to the provided messages.\n",
    "\n",
    "Take Hint (-30 XP)"
   ]
  },
  {
   "cell_type": "code",
   "execution_count": null,
   "metadata": {},
   "outputs": [],
   "source": []
  },
  {
   "cell_type": "code",
   "execution_count": null,
   "metadata": {},
   "outputs": [],
   "source": []
  },
  {
   "cell_type": "code",
   "execution_count": null,
   "metadata": {},
   "outputs": [],
   "source": []
  },
  {
   "cell_type": "code",
   "execution_count": null,
   "metadata": {},
   "outputs": [],
   "source": []
  },
  {
   "cell_type": "code",
   "execution_count": null,
   "metadata": {},
   "outputs": [],
   "source": []
  },
  {
   "cell_type": "code",
   "execution_count": null,
   "metadata": {},
   "outputs": [],
   "source": []
  },
  {
   "cell_type": "code",
   "execution_count": null,
   "metadata": {},
   "outputs": [],
   "source": []
  },
  {
   "cell_type": "code",
   "execution_count": null,
   "metadata": {},
   "outputs": [],
   "source": []
  }
 ],
 "metadata": {
  "kernelspec": {
   "display_name": "Python 3",
   "language": "python",
   "name": "python3"
  },
  "language_info": {
   "codemirror_mode": {
    "name": "ipython",
    "version": 3
   },
   "file_extension": ".py",
   "mimetype": "text/x-python",
   "name": "python",
   "nbconvert_exporter": "python",
   "pygments_lexer": "ipython3",
   "version": "3.7.1"
  }
 },
 "nbformat": 4,
 "nbformat_minor": 2
}
